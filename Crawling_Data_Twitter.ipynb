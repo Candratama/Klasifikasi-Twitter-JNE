{
  "nbformat": 4,
  "nbformat_minor": 0,
  "metadata": {
    "colab": {
      "name": "Crawling Data Twitter",
      "provenance": [],
      "collapsed_sections": []
    },
    "kernelspec": {
      "name": "python3",
      "display_name": "Python 3"
    },
    "language_info": {
      "name": "python"
    }
  },
  "cells": [
    {
      "cell_type": "markdown",
      "source": [
        "#Import Library"
      ],
      "metadata": {
        "id": "LWhwRyxJqs33"
      }
    },
    {
      "cell_type": "code",
      "execution_count": 6,
      "metadata": {
        "id": "cMoycDe4rd8w"
      },
      "outputs": [],
      "source": [
        "import tweepy\n",
        "import pandas as pd"
      ]
    },
    {
      "cell_type": "markdown",
      "source": [
        "#Access Twitter API"
      ],
      "metadata": {
        "id": "xX2--2vTq08h"
      }
    },
    {
      "cell_type": "code",
      "source": [
        "api_key = \"LZjAiMeeaBwV0XSaL3B2MSVfB\"\n",
        "api_key_secret = \"1SlFeIzZERjafTCiRx9AmmPsU61TSByFJS0KYHUxObdv5f6kYJ\"\n",
        "bearer_token = \"AAAAAAAAAAAAAAAAAAAAACgxZAEAAAAAiRrP9y2a1hTm%2F6Dte3UMB7O1zcA%3DJjGk4qexH6ihMp44elyuV3lfvqKYeyxnNAvIULyOaGOZYgdETO\"\n",
        "access_token = \"1451950064012705798-568VKUTU6N2YMSEWNviwjC6uB21crn\"\n",
        "access_token_secret = \"2071FazqiJGZaFDfUxqxB1vMHuCIKxVPxcdjWqBd2LZLy\""
      ],
      "metadata": {
        "id": "CsYU_nuxrwNg"
      },
      "execution_count": 7,
      "outputs": []
    },
    {
      "cell_type": "code",
      "source": [
        "auth = tweepy.OAuthHandler(api_key, api_key_secret)\n",
        "auth.set_access_token(access_token, access_token_secret)\n",
        "api = tweepy.API(auth)"
      ],
      "metadata": {
        "id": "dBIIoaNUr4FU"
      },
      "execution_count": 8,
      "outputs": []
    },
    {
      "cell_type": "markdown",
      "source": [
        "#Collect Data by Twitter ID"
      ],
      "metadata": {
        "id": "gyA5RJvnq8tH"
      }
    },
    {
      "cell_type": "code",
      "source": [
        "hasilUser = api.user_timeline(id=\"jne_id\", count=10)"
      ],
      "metadata": {
        "id": "XiaNxVEV1Ojw"
      },
      "execution_count": 9,
      "outputs": []
    },
    {
      "cell_type": "code",
      "source": [
        "df_tweet = pd.DataFrame(columns=['tweet'])\n",
        "\n",
        "for tweet in hasilUser:\n",
        "    df_tweet = df_tweet.append({'tweet': tweet.text}, ignore_index=True)\n",
        "\n",
        "df_tweet"
      ],
      "metadata": {
        "colab": {
          "base_uri": "https://localhost:8080/",
          "height": 363
        },
        "id": "8SktD3iVnrh8",
        "outputId": "3e14a33f-cd8e-47a6-e320-9a3941a85497"
      },
      "execution_count": 17,
      "outputs": [
        {
          "output_type": "execute_result",
          "data": {
            "text/plain": [
              "                                               tweet\n",
              "0  Semangat #YellowSub !\\n\\n#jne #JNEMajuIndonesi...\n",
              "1  Pada latihan kali ini, terlihat @wisnuryuda su...\n",
              "2  Latihan perdana Tim Cosmo JNE setelah libur le...\n",
              "3  @Rhadira @JNECare Hallo selamat sore ka, mohon...\n",
              "4  @amaq_semet @sicepat_ekspres Hallo selamat sor...\n",
              "5  Eits, jangan lupa juga kamu wajib daftar membe...\n",
              "6  ADA HADIAH EKSKLUSIF UNTUK PESERTA YANG MEMBAG...\n",
              "7  UKM Cilegon, Pripun Kabare? \\nMau tau ga nih g...\n",
              "8  @cherryglaaze Hallo kak selamat pagi, mohon ma...\n",
              "9  Selain itu ada Ade Lesmana selaku pelatih kipe..."
            ],
            "text/html": [
              "\n",
              "  <div id=\"df-b1bf5eba-16f3-4a22-b72f-c66405547110\">\n",
              "    <div class=\"colab-df-container\">\n",
              "      <div>\n",
              "<style scoped>\n",
              "    .dataframe tbody tr th:only-of-type {\n",
              "        vertical-align: middle;\n",
              "    }\n",
              "\n",
              "    .dataframe tbody tr th {\n",
              "        vertical-align: top;\n",
              "    }\n",
              "\n",
              "    .dataframe thead th {\n",
              "        text-align: right;\n",
              "    }\n",
              "</style>\n",
              "<table border=\"1\" class=\"dataframe\">\n",
              "  <thead>\n",
              "    <tr style=\"text-align: right;\">\n",
              "      <th></th>\n",
              "      <th>tweet</th>\n",
              "    </tr>\n",
              "  </thead>\n",
              "  <tbody>\n",
              "    <tr>\n",
              "      <th>0</th>\n",
              "      <td>Semangat #YellowSub !\\n\\n#jne #JNEMajuIndonesi...</td>\n",
              "    </tr>\n",
              "    <tr>\n",
              "      <th>1</th>\n",
              "      <td>Pada latihan kali ini, terlihat @wisnuryuda su...</td>\n",
              "    </tr>\n",
              "    <tr>\n",
              "      <th>2</th>\n",
              "      <td>Latihan perdana Tim Cosmo JNE setelah libur le...</td>\n",
              "    </tr>\n",
              "    <tr>\n",
              "      <th>3</th>\n",
              "      <td>@Rhadira @JNECare Hallo selamat sore ka, mohon...</td>\n",
              "    </tr>\n",
              "    <tr>\n",
              "      <th>4</th>\n",
              "      <td>@amaq_semet @sicepat_ekspres Hallo selamat sor...</td>\n",
              "    </tr>\n",
              "    <tr>\n",
              "      <th>5</th>\n",
              "      <td>Eits, jangan lupa juga kamu wajib daftar membe...</td>\n",
              "    </tr>\n",
              "    <tr>\n",
              "      <th>6</th>\n",
              "      <td>ADA HADIAH EKSKLUSIF UNTUK PESERTA YANG MEMBAG...</td>\n",
              "    </tr>\n",
              "    <tr>\n",
              "      <th>7</th>\n",
              "      <td>UKM Cilegon, Pripun Kabare? \\nMau tau ga nih g...</td>\n",
              "    </tr>\n",
              "    <tr>\n",
              "      <th>8</th>\n",
              "      <td>@cherryglaaze Hallo kak selamat pagi, mohon ma...</td>\n",
              "    </tr>\n",
              "    <tr>\n",
              "      <th>9</th>\n",
              "      <td>Selain itu ada Ade Lesmana selaku pelatih kipe...</td>\n",
              "    </tr>\n",
              "  </tbody>\n",
              "</table>\n",
              "</div>\n",
              "      <button class=\"colab-df-convert\" onclick=\"convertToInteractive('df-b1bf5eba-16f3-4a22-b72f-c66405547110')\"\n",
              "              title=\"Convert this dataframe to an interactive table.\"\n",
              "              style=\"display:none;\">\n",
              "        \n",
              "  <svg xmlns=\"http://www.w3.org/2000/svg\" height=\"24px\"viewBox=\"0 0 24 24\"\n",
              "       width=\"24px\">\n",
              "    <path d=\"M0 0h24v24H0V0z\" fill=\"none\"/>\n",
              "    <path d=\"M18.56 5.44l.94 2.06.94-2.06 2.06-.94-2.06-.94-.94-2.06-.94 2.06-2.06.94zm-11 1L8.5 8.5l.94-2.06 2.06-.94-2.06-.94L8.5 2.5l-.94 2.06-2.06.94zm10 10l.94 2.06.94-2.06 2.06-.94-2.06-.94-.94-2.06-.94 2.06-2.06.94z\"/><path d=\"M17.41 7.96l-1.37-1.37c-.4-.4-.92-.59-1.43-.59-.52 0-1.04.2-1.43.59L10.3 9.45l-7.72 7.72c-.78.78-.78 2.05 0 2.83L4 21.41c.39.39.9.59 1.41.59.51 0 1.02-.2 1.41-.59l7.78-7.78 2.81-2.81c.8-.78.8-2.07 0-2.86zM5.41 20L4 18.59l7.72-7.72 1.47 1.35L5.41 20z\"/>\n",
              "  </svg>\n",
              "      </button>\n",
              "      \n",
              "  <style>\n",
              "    .colab-df-container {\n",
              "      display:flex;\n",
              "      flex-wrap:wrap;\n",
              "      gap: 12px;\n",
              "    }\n",
              "\n",
              "    .colab-df-convert {\n",
              "      background-color: #E8F0FE;\n",
              "      border: none;\n",
              "      border-radius: 50%;\n",
              "      cursor: pointer;\n",
              "      display: none;\n",
              "      fill: #1967D2;\n",
              "      height: 32px;\n",
              "      padding: 0 0 0 0;\n",
              "      width: 32px;\n",
              "    }\n",
              "\n",
              "    .colab-df-convert:hover {\n",
              "      background-color: #E2EBFA;\n",
              "      box-shadow: 0px 1px 2px rgba(60, 64, 67, 0.3), 0px 1px 3px 1px rgba(60, 64, 67, 0.15);\n",
              "      fill: #174EA6;\n",
              "    }\n",
              "\n",
              "    [theme=dark] .colab-df-convert {\n",
              "      background-color: #3B4455;\n",
              "      fill: #D2E3FC;\n",
              "    }\n",
              "\n",
              "    [theme=dark] .colab-df-convert:hover {\n",
              "      background-color: #434B5C;\n",
              "      box-shadow: 0px 1px 3px 1px rgba(0, 0, 0, 0.15);\n",
              "      filter: drop-shadow(0px 1px 2px rgba(0, 0, 0, 0.3));\n",
              "      fill: #FFFFFF;\n",
              "    }\n",
              "  </style>\n",
              "\n",
              "      <script>\n",
              "        const buttonEl =\n",
              "          document.querySelector('#df-b1bf5eba-16f3-4a22-b72f-c66405547110 button.colab-df-convert');\n",
              "        buttonEl.style.display =\n",
              "          google.colab.kernel.accessAllowed ? 'block' : 'none';\n",
              "\n",
              "        async function convertToInteractive(key) {\n",
              "          const element = document.querySelector('#df-b1bf5eba-16f3-4a22-b72f-c66405547110');\n",
              "          const dataTable =\n",
              "            await google.colab.kernel.invokeFunction('convertToInteractive',\n",
              "                                                     [key], {});\n",
              "          if (!dataTable) return;\n",
              "\n",
              "          const docLinkHtml = 'Like what you see? Visit the ' +\n",
              "            '<a target=\"_blank\" href=https://colab.research.google.com/notebooks/data_table.ipynb>data table notebook</a>'\n",
              "            + ' to learn more about interactive tables.';\n",
              "          element.innerHTML = '';\n",
              "          dataTable['output_type'] = 'display_data';\n",
              "          await google.colab.output.renderOutput(dataTable, element);\n",
              "          const docLink = document.createElement('div');\n",
              "          docLink.innerHTML = docLinkHtml;\n",
              "          element.appendChild(docLink);\n",
              "        }\n",
              "      </script>\n",
              "    </div>\n",
              "  </div>\n",
              "  "
            ]
          },
          "metadata": {},
          "execution_count": 17
        }
      ]
    },
    {
      "cell_type": "markdown",
      "source": [
        "#Export to CSV File"
      ],
      "metadata": {
        "id": "dZ87bIjfrG3-"
      }
    },
    {
      "cell_type": "code",
      "source": [
        "df_tweet.to_csv('data_tweet_JNE.csv')"
      ],
      "metadata": {
        "id": "SB06GnlAqFwj"
      },
      "execution_count": 18,
      "outputs": []
    }
  ]
}